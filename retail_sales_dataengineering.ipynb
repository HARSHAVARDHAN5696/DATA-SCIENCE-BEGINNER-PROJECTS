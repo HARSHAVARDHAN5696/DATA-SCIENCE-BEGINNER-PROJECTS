{
  "nbformat": 4,
  "nbformat_minor": 0,
  "metadata": {
    "colab": {
      "provenance": [],
      "authorship_tag": "ABX9TyPqZiX/Y/Dz3X8zRBh2ong3",
      "include_colab_link": true
    },
    "kernelspec": {
      "name": "python3",
      "display_name": "Python 3"
    },
    "language_info": {
      "name": "python"
    }
  },
  "cells": [
    {
      "cell_type": "markdown",
      "metadata": {
        "id": "view-in-github",
        "colab_type": "text"
      },
      "source": [
        "<a href=\"https://colab.research.google.com/github/HARSHAVARDHAN5696/DATA-SCIENCE-BEGINNER-PROJECTS/blob/main/retail_sales_dataengineering.ipynb\" target=\"_parent\"><img src=\"https://colab.research.google.com/assets/colab-badge.svg\" alt=\"Open In Colab\"/></a>"
      ]
    },
    {
      "cell_type": "code",
      "execution_count": 3,
      "metadata": {
        "id": "3msnpdYzFiKn"
      },
      "outputs": [],
      "source": [
        "# Install Java\n",
        "!apt-get install openjdk-11-jdk-headless -qq > /dev/null\n",
        "\n",
        "# Download and extract Spark (latest stable version)\n",
        "!wget -q https://archive.apache.org/dist/spark/spark-3.3.2/spark-3.3.2-bin-hadoop3.tgz\n",
        "!tar xf spark-3.3.2-bin-hadoop3.tgz\n",
        "\n",
        "# Install PySpark helper\n",
        "!pip install -q findspark\n",
        "\n",
        "# Set environment variables\n",
        "import os\n",
        "os.environ[\"JAVA_HOME\"] = \"/usr/lib/jvm/java-11-openjdk-amd64\"\n",
        "os.environ[\"SPARK_HOME\"] = \"/content/spark-3.3.2-bin-hadoop3\"\n"
      ]
    },
    {
      "cell_type": "code",
      "source": [
        "import findspark\n",
        "findspark.init()\n",
        "\n",
        "from pyspark.sql import SparkSession\n",
        "\n",
        "spark = SparkSession.builder \\\n",
        "    .appName(\"RetailProject\") \\\n",
        "    .getOrCreate()\n",
        "\n",
        "spark\n"
      ],
      "metadata": {
        "colab": {
          "base_uri": "https://localhost:8080/",
          "height": 219
        },
        "id": "CCjx5jViGUTk",
        "outputId": "4210a292-e83d-48eb-daa8-962c21d45136"
      },
      "execution_count": 4,
      "outputs": [
        {
          "output_type": "execute_result",
          "data": {
            "text/plain": [
              "<pyspark.sql.session.SparkSession at 0x7a0d303a2910>"
            ],
            "text/html": [
              "\n",
              "            <div>\n",
              "                <p><b>SparkSession - in-memory</b></p>\n",
              "                \n",
              "        <div>\n",
              "            <p><b>SparkContext</b></p>\n",
              "\n",
              "            <p><a href=\"http://e2414d001eb2:4040\">Spark UI</a></p>\n",
              "\n",
              "            <dl>\n",
              "              <dt>Version</dt>\n",
              "                <dd><code>v3.3.2</code></dd>\n",
              "              <dt>Master</dt>\n",
              "                <dd><code>local[*]</code></dd>\n",
              "              <dt>AppName</dt>\n",
              "                <dd><code>RetailProject</code></dd>\n",
              "            </dl>\n",
              "        </div>\n",
              "        \n",
              "            </div>\n",
              "        "
            ]
          },
          "metadata": {},
          "execution_count": 4
        }
      ]
    },
    {
      "cell_type": "code",
      "source": [
        "from google.colab import files\n",
        "\n",
        "# This will open a file picker\n",
        "uploaded = files.upload()\n"
      ],
      "metadata": {
        "colab": {
          "base_uri": "https://localhost:8080/",
          "height": 73
        },
        "id": "scpZouBlKCnq",
        "outputId": "0cd92d30-0508-4653-ad2f-633cd3ac8de9"
      },
      "execution_count": 5,
      "outputs": [
        {
          "output_type": "display_data",
          "data": {
            "text/plain": [
              "<IPython.core.display.HTML object>"
            ],
            "text/html": [
              "\n",
              "     <input type=\"file\" id=\"files-ef2b9ca4-83b7-444a-8665-0b011ccb78f8\" name=\"files[]\" multiple disabled\n",
              "        style=\"border:none\" />\n",
              "     <output id=\"result-ef2b9ca4-83b7-444a-8665-0b011ccb78f8\">\n",
              "      Upload widget is only available when the cell has been executed in the\n",
              "      current browser session. Please rerun this cell to enable.\n",
              "      </output>\n",
              "      <script>// Copyright 2017 Google LLC\n",
              "//\n",
              "// Licensed under the Apache License, Version 2.0 (the \"License\");\n",
              "// you may not use this file except in compliance with the License.\n",
              "// You may obtain a copy of the License at\n",
              "//\n",
              "//      http://www.apache.org/licenses/LICENSE-2.0\n",
              "//\n",
              "// Unless required by applicable law or agreed to in writing, software\n",
              "// distributed under the License is distributed on an \"AS IS\" BASIS,\n",
              "// WITHOUT WARRANTIES OR CONDITIONS OF ANY KIND, either express or implied.\n",
              "// See the License for the specific language governing permissions and\n",
              "// limitations under the License.\n",
              "\n",
              "/**\n",
              " * @fileoverview Helpers for google.colab Python module.\n",
              " */\n",
              "(function(scope) {\n",
              "function span(text, styleAttributes = {}) {\n",
              "  const element = document.createElement('span');\n",
              "  element.textContent = text;\n",
              "  for (const key of Object.keys(styleAttributes)) {\n",
              "    element.style[key] = styleAttributes[key];\n",
              "  }\n",
              "  return element;\n",
              "}\n",
              "\n",
              "// Max number of bytes which will be uploaded at a time.\n",
              "const MAX_PAYLOAD_SIZE = 100 * 1024;\n",
              "\n",
              "function _uploadFiles(inputId, outputId) {\n",
              "  const steps = uploadFilesStep(inputId, outputId);\n",
              "  const outputElement = document.getElementById(outputId);\n",
              "  // Cache steps on the outputElement to make it available for the next call\n",
              "  // to uploadFilesContinue from Python.\n",
              "  outputElement.steps = steps;\n",
              "\n",
              "  return _uploadFilesContinue(outputId);\n",
              "}\n",
              "\n",
              "// This is roughly an async generator (not supported in the browser yet),\n",
              "// where there are multiple asynchronous steps and the Python side is going\n",
              "// to poll for completion of each step.\n",
              "// This uses a Promise to block the python side on completion of each step,\n",
              "// then passes the result of the previous step as the input to the next step.\n",
              "function _uploadFilesContinue(outputId) {\n",
              "  const outputElement = document.getElementById(outputId);\n",
              "  const steps = outputElement.steps;\n",
              "\n",
              "  const next = steps.next(outputElement.lastPromiseValue);\n",
              "  return Promise.resolve(next.value.promise).then((value) => {\n",
              "    // Cache the last promise value to make it available to the next\n",
              "    // step of the generator.\n",
              "    outputElement.lastPromiseValue = value;\n",
              "    return next.value.response;\n",
              "  });\n",
              "}\n",
              "\n",
              "/**\n",
              " * Generator function which is called between each async step of the upload\n",
              " * process.\n",
              " * @param {string} inputId Element ID of the input file picker element.\n",
              " * @param {string} outputId Element ID of the output display.\n",
              " * @return {!Iterable<!Object>} Iterable of next steps.\n",
              " */\n",
              "function* uploadFilesStep(inputId, outputId) {\n",
              "  const inputElement = document.getElementById(inputId);\n",
              "  inputElement.disabled = false;\n",
              "\n",
              "  const outputElement = document.getElementById(outputId);\n",
              "  outputElement.innerHTML = '';\n",
              "\n",
              "  const pickedPromise = new Promise((resolve) => {\n",
              "    inputElement.addEventListener('change', (e) => {\n",
              "      resolve(e.target.files);\n",
              "    });\n",
              "  });\n",
              "\n",
              "  const cancel = document.createElement('button');\n",
              "  inputElement.parentElement.appendChild(cancel);\n",
              "  cancel.textContent = 'Cancel upload';\n",
              "  const cancelPromise = new Promise((resolve) => {\n",
              "    cancel.onclick = () => {\n",
              "      resolve(null);\n",
              "    };\n",
              "  });\n",
              "\n",
              "  // Wait for the user to pick the files.\n",
              "  const files = yield {\n",
              "    promise: Promise.race([pickedPromise, cancelPromise]),\n",
              "    response: {\n",
              "      action: 'starting',\n",
              "    }\n",
              "  };\n",
              "\n",
              "  cancel.remove();\n",
              "\n",
              "  // Disable the input element since further picks are not allowed.\n",
              "  inputElement.disabled = true;\n",
              "\n",
              "  if (!files) {\n",
              "    return {\n",
              "      response: {\n",
              "        action: 'complete',\n",
              "      }\n",
              "    };\n",
              "  }\n",
              "\n",
              "  for (const file of files) {\n",
              "    const li = document.createElement('li');\n",
              "    li.append(span(file.name, {fontWeight: 'bold'}));\n",
              "    li.append(span(\n",
              "        `(${file.type || 'n/a'}) - ${file.size} bytes, ` +\n",
              "        `last modified: ${\n",
              "            file.lastModifiedDate ? file.lastModifiedDate.toLocaleDateString() :\n",
              "                                    'n/a'} - `));\n",
              "    const percent = span('0% done');\n",
              "    li.appendChild(percent);\n",
              "\n",
              "    outputElement.appendChild(li);\n",
              "\n",
              "    const fileDataPromise = new Promise((resolve) => {\n",
              "      const reader = new FileReader();\n",
              "      reader.onload = (e) => {\n",
              "        resolve(e.target.result);\n",
              "      };\n",
              "      reader.readAsArrayBuffer(file);\n",
              "    });\n",
              "    // Wait for the data to be ready.\n",
              "    let fileData = yield {\n",
              "      promise: fileDataPromise,\n",
              "      response: {\n",
              "        action: 'continue',\n",
              "      }\n",
              "    };\n",
              "\n",
              "    // Use a chunked sending to avoid message size limits. See b/62115660.\n",
              "    let position = 0;\n",
              "    do {\n",
              "      const length = Math.min(fileData.byteLength - position, MAX_PAYLOAD_SIZE);\n",
              "      const chunk = new Uint8Array(fileData, position, length);\n",
              "      position += length;\n",
              "\n",
              "      const base64 = btoa(String.fromCharCode.apply(null, chunk));\n",
              "      yield {\n",
              "        response: {\n",
              "          action: 'append',\n",
              "          file: file.name,\n",
              "          data: base64,\n",
              "        },\n",
              "      };\n",
              "\n",
              "      let percentDone = fileData.byteLength === 0 ?\n",
              "          100 :\n",
              "          Math.round((position / fileData.byteLength) * 100);\n",
              "      percent.textContent = `${percentDone}% done`;\n",
              "\n",
              "    } while (position < fileData.byteLength);\n",
              "  }\n",
              "\n",
              "  // All done.\n",
              "  yield {\n",
              "    response: {\n",
              "      action: 'complete',\n",
              "    }\n",
              "  };\n",
              "}\n",
              "\n",
              "scope.google = scope.google || {};\n",
              "scope.google.colab = scope.google.colab || {};\n",
              "scope.google.colab._files = {\n",
              "  _uploadFiles,\n",
              "  _uploadFilesContinue,\n",
              "};\n",
              "})(self);\n",
              "</script> "
            ]
          },
          "metadata": {}
        },
        {
          "output_type": "stream",
          "name": "stdout",
          "text": [
            "Saving retail_sales.csv to retail_sales.csv\n"
          ]
        }
      ]
    },
    {
      "cell_type": "code",
      "source": [
        "# Read the uploaded CSV file into Spark DataFrame\n",
        "df = (\n",
        "    spark.read\n",
        "    .option(\"header\", True)\n",
        "    .option(\"inferSchema\", True)\n",
        "    .csv(\"retail_sales.csv\")\n",
        ")\n",
        "\n",
        "df.show(5)\n"
      ],
      "metadata": {
        "colab": {
          "base_uri": "https://localhost:8080/"
        },
        "id": "1vfVOmhpKHvw",
        "outputId": "66c336da-05ee-4077-8edc-609a1a6710f5"
      },
      "execution_count": 6,
      "outputs": [
        {
          "output_type": "stream",
          "name": "stdout",
          "text": [
            "+--------+-------------------+-----------+----------+--------+-----+--------+------+\n",
            "|order_id|         order_date|customer_id|product_id|quantity|price|store_id|region|\n",
            "+--------+-------------------+-----------+----------+--------+-----+--------+------+\n",
            "|   O1000|2023-04-13 00:00:00|         C3|       P19|       7| 9.91|      S4| North|\n",
            "|   O1001|2023-12-15 00:00:00|        C33|       P12|       5|52.96|      S6| North|\n",
            "|   O1002|2023-09-28 00:00:00|         C6|       P18|       5|73.25|      S5|  West|\n",
            "|   O1003|2023-04-17 00:00:00|        C50|        P6|       2|86.95|      S7| South|\n",
            "|   O1004|2023-03-13 00:00:00|        C10|       P18|       4|22.03|     S10| South|\n",
            "+--------+-------------------+-----------+----------+--------+-----+--------+------+\n",
            "only showing top 5 rows\n",
            "\n"
          ]
        }
      ]
    },
    {
      "cell_type": "code",
      "source": [
        "import pandas as pd\n",
        "\n",
        "# Load original file using pandas\n",
        "df_full = pd.read_csv(\"retail_sales.csv\")\n",
        "\n",
        "# Create 5 mini-batches and save them as separate files\n",
        "for i in range(5):\n",
        "    batch = df_full.sample(50, random_state=i)\n",
        "    batch.to_csv(f\"batch_{i+1}.csv\", index=False)\n"
      ],
      "metadata": {
        "id": "NxAcFDa-KSIj"
      },
      "execution_count": 7,
      "outputs": []
    },
    {
      "cell_type": "code",
      "source": [
        "import time\n",
        "from pyspark.sql.functions import *\n",
        "\n",
        "# Create an empty DataFrame to simulate the warehouse table\n",
        "fact_sales_df = None\n",
        "\n",
        "# Simulate streaming by processing each batch\n",
        "for i in range(1, 6):\n",
        "    print(f\"🚀 Ingesting batch_{i}.csv ...\")\n",
        "\n",
        "    # Read the mini-batch\n",
        "    batch_df = (\n",
        "        spark.read\n",
        "        .option(\"header\", True)\n",
        "        .option(\"inferSchema\", True)\n",
        "        .csv(f\"batch_{i}.csv\")\n",
        "    )\n",
        "\n",
        "    # Add timestamp column for demo\n",
        "    batch_df = batch_df.withColumn(\"ingested_at\", current_timestamp())\n",
        "\n",
        "    # Combine with the master fact_sales_df\n",
        "    if fact_sales_df is None:\n",
        "        fact_sales_df = batch_df\n",
        "    else:\n",
        "        fact_sales_df = fact_sales_df.union(batch_df)\n",
        "\n",
        "    # Show current fact table\n",
        "    fact_sales_df.groupBy(\"region\").agg(sum(\"quantity\").alias(\"total_quantity\")).show()\n",
        "\n",
        "    time.sleep(1)  # Wait 1 sec before next batch\n"
      ],
      "metadata": {
        "colab": {
          "base_uri": "https://localhost:8080/"
        },
        "id": "WI_YT827KXWL",
        "outputId": "9339fc16-8788-47c7-e37d-7dac3412b7c9"
      },
      "execution_count": 8,
      "outputs": [
        {
          "output_type": "stream",
          "name": "stdout",
          "text": [
            "🚀 Ingesting batch_1.csv ...\n",
            "+------+--------------+\n",
            "|region|total_quantity|\n",
            "+------+--------------+\n",
            "| South|            53|\n",
            "|  East|            38|\n",
            "|  West|            77|\n",
            "| North|            97|\n",
            "+------+--------------+\n",
            "\n",
            "🚀 Ingesting batch_2.csv ...\n",
            "+------+--------------+\n",
            "|region|total_quantity|\n",
            "+------+--------------+\n",
            "| South|           135|\n",
            "|  East|           124|\n",
            "|  West|           118|\n",
            "| North|           164|\n",
            "+------+--------------+\n",
            "\n",
            "🚀 Ingesting batch_3.csv ...\n",
            "+------+--------------+\n",
            "|region|total_quantity|\n",
            "+------+--------------+\n",
            "| South|           208|\n",
            "|  East|           182|\n",
            "|  West|           188|\n",
            "| North|           208|\n",
            "+------+--------------+\n",
            "\n",
            "🚀 Ingesting batch_4.csv ...\n",
            "+------+--------------+\n",
            "|region|total_quantity|\n",
            "+------+--------------+\n",
            "| South|           230|\n",
            "|  East|           279|\n",
            "|  West|           246|\n",
            "| North|           279|\n",
            "+------+--------------+\n",
            "\n",
            "🚀 Ingesting batch_5.csv ...\n",
            "+------+--------------+\n",
            "|region|total_quantity|\n",
            "+------+--------------+\n",
            "| South|           282|\n",
            "|  East|           348|\n",
            "|  West|           302|\n",
            "| North|           325|\n",
            "+------+--------------+\n",
            "\n"
          ]
        }
      ]
    },
    {
      "cell_type": "code",
      "source": [
        "# Save the final fact_sales_df to Parquet format (acts like data warehouse storage)\n",
        "fact_sales_df.write.mode(\"overwrite\").parquet(\"fact_sales_parquet\")\n"
      ],
      "metadata": {
        "id": "_D76KvQ6Kkb4"
      },
      "execution_count": 9,
      "outputs": []
    },
    {
      "cell_type": "code",
      "source": [
        "# Read from the saved parquet file\n",
        "fact_sales = spark.read.parquet(\"fact_sales_parquet\")\n",
        "\n",
        "# Show the schema\n",
        "fact_sales.printSchema()\n",
        "\n",
        "# Show total revenue by region\n",
        "fact_sales.withColumn(\"total_sale\", fact_sales.quantity * fact_sales.price) \\\n",
        "    .groupBy(\"region\") \\\n",
        "    .agg(round(sum(\"total_sale\"), 2).alias(\"Total_Revenue\")) \\\n",
        "    .orderBy(\"Total_Revenue\", ascending=False) \\\n",
        "    .show()\n"
      ],
      "metadata": {
        "colab": {
          "base_uri": "https://localhost:8080/"
        },
        "id": "bDj9yuelKosW",
        "outputId": "8a8bb835-a549-4b5d-b581-718f0e8ad2ef"
      },
      "execution_count": 10,
      "outputs": [
        {
          "output_type": "stream",
          "name": "stdout",
          "text": [
            "root\n",
            " |-- order_id: string (nullable = true)\n",
            " |-- order_date: timestamp (nullable = true)\n",
            " |-- customer_id: string (nullable = true)\n",
            " |-- product_id: string (nullable = true)\n",
            " |-- quantity: integer (nullable = true)\n",
            " |-- price: double (nullable = true)\n",
            " |-- store_id: string (nullable = true)\n",
            " |-- region: string (nullable = true)\n",
            " |-- ingested_at: timestamp (nullable = true)\n",
            "\n",
            "+------+-------------+\n",
            "|region|Total_Revenue|\n",
            "+------+-------------+\n",
            "|  East|     17336.44|\n",
            "| North|     16837.01|\n",
            "|  West|     15798.24|\n",
            "| South|      14983.7|\n",
            "+------+-------------+\n",
            "\n"
          ]
        }
      ]
    },
    {
      "cell_type": "code",
      "source": [
        "dim_customer = fact_sales.select(\"customer_id\").distinct()\n",
        "dim_customer = dim_customer.withColumn(\"customer_key\", monotonically_increasing_id())\n",
        "\n",
        "dim_customer.show(5)\n"
      ],
      "metadata": {
        "colab": {
          "base_uri": "https://localhost:8080/"
        },
        "id": "NcKd4qJpK8mA",
        "outputId": "c069f415-17ec-4ff9-e6a9-01f11873354c"
      },
      "execution_count": 11,
      "outputs": [
        {
          "output_type": "stream",
          "name": "stdout",
          "text": [
            "+-----------+------------+\n",
            "|customer_id|customer_key|\n",
            "+-----------+------------+\n",
            "|         C6|           0|\n",
            "|        C22|           1|\n",
            "|        C78|           2|\n",
            "|        C95|           3|\n",
            "|        C98|           4|\n",
            "+-----------+------------+\n",
            "only showing top 5 rows\n",
            "\n"
          ]
        }
      ]
    },
    {
      "cell_type": "code",
      "source": [
        "dim_product = fact_sales.select(\"product_id\").distinct()\n",
        "dim_product = dim_product.withColumn(\"product_key\", monotonically_increasing_id())\n",
        "\n",
        "dim_product.show(5)\n"
      ],
      "metadata": {
        "colab": {
          "base_uri": "https://localhost:8080/"
        },
        "id": "1736WOoQK-8B",
        "outputId": "bc6ca36e-5d5f-4e3b-947b-3fba4338f26e"
      },
      "execution_count": 12,
      "outputs": [
        {
          "output_type": "stream",
          "name": "stdout",
          "text": [
            "+----------+-----------+\n",
            "|product_id|product_key|\n",
            "+----------+-----------+\n",
            "|       P13|          0|\n",
            "|        P2|          1|\n",
            "|       P15|          2|\n",
            "|       P11|          3|\n",
            "|        P7|          4|\n",
            "+----------+-----------+\n",
            "only showing top 5 rows\n",
            "\n"
          ]
        }
      ]
    },
    {
      "cell_type": "code",
      "source": [
        "dim_store = fact_sales.select(\"store_id\", \"region\").distinct()\n",
        "dim_store = dim_store.withColumn(\"store_key\", monotonically_increasing_id())\n",
        "\n",
        "dim_store.show(5)\n"
      ],
      "metadata": {
        "colab": {
          "base_uri": "https://localhost:8080/"
        },
        "id": "hDWgb_LLLAvq",
        "outputId": "fb00b0d3-9c18-401c-98a7-36a8f13f3972"
      },
      "execution_count": 13,
      "outputs": [
        {
          "output_type": "stream",
          "name": "stdout",
          "text": [
            "+--------+------+---------+\n",
            "|store_id|region|store_key|\n",
            "+--------+------+---------+\n",
            "|      S7| South|        0|\n",
            "|      S8| South|        1|\n",
            "|      S7| North|        2|\n",
            "|      S6|  West|        3|\n",
            "|      S2|  East|        4|\n",
            "+--------+------+---------+\n",
            "only showing top 5 rows\n",
            "\n"
          ]
        }
      ]
    },
    {
      "cell_type": "code",
      "source": [
        "from pyspark.sql.functions import to_date, year, month, dayofmonth\n",
        "\n",
        "dim_date = fact_sales.select(to_date(\"order_date\").alias(\"order_date\")).distinct()\n",
        "dim_date = dim_date.withColumn(\"day\", dayofmonth(\"order_date\")) \\\n",
        "                   .withColumn(\"month\", month(\"order_date\")) \\\n",
        "                   .withColumn(\"year\", year(\"order_date\")) \\\n",
        "                   .withColumn(\"date_key\", monotonically_increasing_id())\n",
        "\n",
        "dim_date.show(5)\n"
      ],
      "metadata": {
        "colab": {
          "base_uri": "https://localhost:8080/"
        },
        "id": "fGCQOT5qLA7W",
        "outputId": "1cef4bbf-8cdc-4b9a-cde2-b9a0e16b11ff"
      },
      "execution_count": 14,
      "outputs": [
        {
          "output_type": "stream",
          "name": "stdout",
          "text": [
            "+----------+---+-----+----+--------+\n",
            "|order_date|day|month|year|date_key|\n",
            "+----------+---+-----+----+--------+\n",
            "|2023-11-08|  8|   11|2023|       0|\n",
            "|2023-05-22| 22|    5|2023|       1|\n",
            "|2023-02-25| 25|    2|2023|       2|\n",
            "|2023-06-23| 23|    6|2023|       3|\n",
            "|2023-02-08|  8|    2|2023|       4|\n",
            "+----------+---+-----+----+--------+\n",
            "only showing top 5 rows\n",
            "\n"
          ]
        }
      ]
    },
    {
      "cell_type": "code",
      "source": [
        "dim_date = dim_date.withColumnRenamed(\"order_date\", \"date_value\")\n"
      ],
      "metadata": {
        "id": "tDhORQ4bLZRc"
      },
      "execution_count": 16,
      "outputs": []
    },
    {
      "cell_type": "code",
      "source": [
        "from pyspark.sql.functions import to_date\n",
        "\n",
        "fs = fact_sales \\\n",
        "    .join(dim_customer, on=\"customer_id\", how=\"left\") \\\n",
        "    .join(dim_product, on=\"product_id\", how=\"left\") \\\n",
        "    .join(dim_store, on=[\"store_id\", \"region\"], how=\"left\") \\\n",
        "    .join(dim_date, to_date(\"order_date\") == dim_date[\"date_value\"], \"left\") \\\n",
        "    .select(\"order_id\", \"customer_key\", \"product_key\", \"store_key\", \"date_key\",\n",
        "            \"quantity\", \"price\", \"ingested_at\")\n",
        "\n",
        "fs.show(5)\n",
        "\n"
      ],
      "metadata": {
        "colab": {
          "base_uri": "https://localhost:8080/"
        },
        "id": "weXChB9SLF0Y",
        "outputId": "317b0000-c890-409c-fe1d-2102604232d9"
      },
      "execution_count": 17,
      "outputs": [
        {
          "output_type": "stream",
          "name": "stdout",
          "text": [
            "+--------+------------+-----------+---------+--------+--------+-----+--------------------+\n",
            "|order_id|customer_key|product_key|store_key|date_key|quantity|price|         ingested_at|\n",
            "+--------+------------+-----------+---------+--------+--------+-----+--------------------+\n",
            "|   O1642|          18|          7|       17|      86|       1| 80.3|2025-07-29 17:10:...|\n",
            "|   O1762|          41|          9|       34|      37|       9|43.23|2025-07-29 17:10:...|\n",
            "|   O1909|           3|          1|       28|      44|       5|83.32|2025-07-29 17:10:...|\n",
            "|   O1199|          41|          3|        8|     102|       4|55.88|2025-07-29 17:10:...|\n",
            "|   O1586|           7|          1|       31|      82|       1|84.81|2025-07-29 17:10:...|\n",
            "+--------+------------+-----------+---------+--------+--------+-----+--------------------+\n",
            "only showing top 5 rows\n",
            "\n"
          ]
        }
      ]
    },
    {
      "cell_type": "code",
      "source": [
        "# Save all tables\n",
        "dim_customer.write.mode(\"overwrite\").parquet(\"dim_customer\")\n",
        "dim_product.write.mode(\"overwrite\").parquet(\"dim_product\")\n",
        "dim_store.write.mode(\"overwrite\").parquet(\"dim_store\")\n",
        "dim_date.write.mode(\"overwrite\").parquet(\"dim_date\")\n",
        "fs.write.mode(\"overwrite\").parquet(\"fact_sales\")\n"
      ],
      "metadata": {
        "id": "D9U06h8wLg71"
      },
      "execution_count": 18,
      "outputs": []
    },
    {
      "cell_type": "code",
      "source": [
        "# Create final project folder and move everything\n",
        "!mkdir -p Retail_Data_Engineering_Project\n",
        "!cp -r fact_sales dim_* pipeline_notebook.ipynb Retail_Data_Engineering_Project/\n",
        "!zip -r Retail_Data_Engineering_Project.zip Retail_Data_Engineering_Project\n"
      ],
      "metadata": {
        "colab": {
          "base_uri": "https://localhost:8080/"
        },
        "id": "rxaJtSHiLt1G",
        "outputId": "b8dbb2f7-0fcc-4d40-cd6c-b29d7c28ca2a"
      },
      "execution_count": 19,
      "outputs": [
        {
          "output_type": "stream",
          "name": "stdout",
          "text": [
            "cp: cannot stat 'pipeline_notebook.ipynb': No such file or directory\n",
            "  adding: Retail_Data_Engineering_Project/ (stored 0%)\n",
            "  adding: Retail_Data_Engineering_Project/dim_customer/ (stored 0%)\n",
            "  adding: Retail_Data_Engineering_Project/dim_customer/._SUCCESS.crc (stored 0%)\n",
            "  adding: Retail_Data_Engineering_Project/dim_customer/part-00000-84b81625-5dc0-4c54-8acb-515a84b69e45-c000.snappy.parquet (deflated 38%)\n",
            "  adding: Retail_Data_Engineering_Project/dim_customer/.part-00000-84b81625-5dc0-4c54-8acb-515a84b69e45-c000.snappy.parquet.crc (stored 0%)\n",
            "  adding: Retail_Data_Engineering_Project/dim_customer/_SUCCESS (stored 0%)\n",
            "  adding: Retail_Data_Engineering_Project/dim_date/ (stored 0%)\n",
            "  adding: Retail_Data_Engineering_Project/dim_date/._SUCCESS.crc (stored 0%)\n",
            "  adding: Retail_Data_Engineering_Project/dim_date/part-00000-95567ce4-6ee9-45ce-80d6-af57aaf55a0a-c000.snappy.parquet (deflated 46%)\n",
            "  adding: Retail_Data_Engineering_Project/dim_date/_SUCCESS (stored 0%)\n",
            "  adding: Retail_Data_Engineering_Project/dim_date/.part-00000-95567ce4-6ee9-45ce-80d6-af57aaf55a0a-c000.snappy.parquet.crc (stored 0%)\n",
            "  adding: Retail_Data_Engineering_Project/dim_product/ (stored 0%)\n",
            "  adding: Retail_Data_Engineering_Project/dim_product/._SUCCESS.crc (stored 0%)\n",
            "  adding: Retail_Data_Engineering_Project/dim_product/part-00000-460efba8-4965-4e23-810d-593da3fb20db-c000.snappy.parquet (deflated 34%)\n",
            "  adding: Retail_Data_Engineering_Project/dim_product/.part-00000-460efba8-4965-4e23-810d-593da3fb20db-c000.snappy.parquet.crc (stored 0%)\n",
            "  adding: Retail_Data_Engineering_Project/dim_product/_SUCCESS (stored 0%)\n",
            "  adding: Retail_Data_Engineering_Project/dim_store/ (stored 0%)\n",
            "  adding: Retail_Data_Engineering_Project/dim_store/._SUCCESS.crc (stored 0%)\n",
            "  adding: Retail_Data_Engineering_Project/dim_store/.part-00000-caae6a20-3a67-4a05-908d-d4cba068d086-c000.snappy.parquet.crc (stored 0%)\n",
            "  adding: Retail_Data_Engineering_Project/dim_store/part-00000-caae6a20-3a67-4a05-908d-d4cba068d086-c000.snappy.parquet (deflated 38%)\n",
            "  adding: Retail_Data_Engineering_Project/dim_store/_SUCCESS (stored 0%)\n",
            "  adding: Retail_Data_Engineering_Project/fact_sales/ (stored 0%)\n",
            "  adding: Retail_Data_Engineering_Project/fact_sales/._SUCCESS.crc (stored 0%)\n",
            "  adding: Retail_Data_Engineering_Project/fact_sales/.part-00001-5ee84e15-33ab-446f-be8e-2b8d19d6452e-c000.snappy.parquet.crc (stored 0%)\n",
            "  adding: Retail_Data_Engineering_Project/fact_sales/part-00000-5ee84e15-33ab-446f-be8e-2b8d19d6452e-c000.snappy.parquet (deflated 39%)\n",
            "  adding: Retail_Data_Engineering_Project/fact_sales/part-00001-5ee84e15-33ab-446f-be8e-2b8d19d6452e-c000.snappy.parquet (deflated 42%)\n",
            "  adding: Retail_Data_Engineering_Project/fact_sales/_SUCCESS (stored 0%)\n",
            "  adding: Retail_Data_Engineering_Project/fact_sales/.part-00000-5ee84e15-33ab-446f-be8e-2b8d19d6452e-c000.snappy.parquet.crc (stored 0%)\n"
          ]
        }
      ]
    },
    {
      "cell_type": "code",
      "source": [
        "from google.colab import files\n",
        "files.download(\"Retail_Data_Engineering_Project.zip\")\n"
      ],
      "metadata": {
        "colab": {
          "base_uri": "https://localhost:8080/",
          "height": 17
        },
        "id": "ZWxpnytnL2oH",
        "outputId": "057b8959-6ebf-48db-ab0a-2830f93a7f9e"
      },
      "execution_count": 20,
      "outputs": [
        {
          "output_type": "display_data",
          "data": {
            "text/plain": [
              "<IPython.core.display.Javascript object>"
            ],
            "application/javascript": [
              "\n",
              "    async function download(id, filename, size) {\n",
              "      if (!google.colab.kernel.accessAllowed) {\n",
              "        return;\n",
              "      }\n",
              "      const div = document.createElement('div');\n",
              "      const label = document.createElement('label');\n",
              "      label.textContent = `Downloading \"${filename}\": `;\n",
              "      div.appendChild(label);\n",
              "      const progress = document.createElement('progress');\n",
              "      progress.max = size;\n",
              "      div.appendChild(progress);\n",
              "      document.body.appendChild(div);\n",
              "\n",
              "      const buffers = [];\n",
              "      let downloaded = 0;\n",
              "\n",
              "      const channel = await google.colab.kernel.comms.open(id);\n",
              "      // Send a message to notify the kernel that we're ready.\n",
              "      channel.send({})\n",
              "\n",
              "      for await (const message of channel.messages) {\n",
              "        // Send a message to notify the kernel that we're ready.\n",
              "        channel.send({})\n",
              "        if (message.buffers) {\n",
              "          for (const buffer of message.buffers) {\n",
              "            buffers.push(buffer);\n",
              "            downloaded += buffer.byteLength;\n",
              "            progress.value = downloaded;\n",
              "          }\n",
              "        }\n",
              "      }\n",
              "      const blob = new Blob(buffers, {type: 'application/binary'});\n",
              "      const a = document.createElement('a');\n",
              "      a.href = window.URL.createObjectURL(blob);\n",
              "      a.download = filename;\n",
              "      div.appendChild(a);\n",
              "      a.click();\n",
              "      div.remove();\n",
              "    }\n",
              "  "
            ]
          },
          "metadata": {}
        },
        {
          "output_type": "display_data",
          "data": {
            "text/plain": [
              "<IPython.core.display.Javascript object>"
            ],
            "application/javascript": [
              "download(\"download_57381179-ce7c-41d1-a603-cac06b2bd84a\", \"Retail_Data_Engineering_Project.zip\", 18480)"
            ]
          },
          "metadata": {}
        }
      ]
    }
  ]
}